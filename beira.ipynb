{
 "cells": [
  {
   "cell_type": "code",
   "execution_count": null,
   "metadata": {},
   "outputs": [],
   "source": [
    "\"\"\"\n",
    "Web hosting is the transfer of yoh website from yoh computer to a specialed computer called a web server.\n",
    "one sever can host one more websites\n",
    "\n",
    "A domain name is the name of the server where a particular website is stored e.g www.example.com which website points to a particular folder where the website is located.\n",
    "\n",
    "A web server is a piece of software that was designed to receive requests from a web client and responds to those requests.\n",
    "\n",
    "A web client is a piece of software that was designed to send requests to a web server and receives responses from the web server.\n",
    "\n",
    "A web client is a web browser from example chrome,bing,firefox,safari.\n",
    "\n",
    "When you looking for  resource in a web client,this is how it responds.\n",
    "202-page means the page is available\n",
    "404-page means not available\n",
    "403-available but access denied\n",
    "500-page exists but has internal errors\n",
    "300-reqest for a page and server is busy(temporarily unavailble)\n",
    "\n",
    "\n",
    "\"\"\"\n",
    "#web server client and  database is called a three tire arcitecture.The communication between the webserver and the database is managed by the backend .\n",
    "\n"
   ]
  }
 ],
 "metadata": {
  "language_info": {
   "name": "python"
  }
 },
 "nbformat": 4,
 "nbformat_minor": 2
}
